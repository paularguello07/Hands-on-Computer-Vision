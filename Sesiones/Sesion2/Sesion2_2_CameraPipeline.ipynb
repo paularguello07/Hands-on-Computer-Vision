{
  "cells": [
    {
      "cell_type": "markdown",
      "metadata": {
        "id": "yDlrzOTYbKp-"
      },
      "source": [
        "![Transformaciones](https://raw.githubusercontent.com/semilleroCV/Hands-on-Computer-Vision/main/Sesiones/Sesion2/Images/poster_sesion2.png)"
      ]
    },
    {
      "cell_type": "markdown",
      "metadata": {
        "id": "tXkqavMpbNHg"
      },
      "source": [
        "#**Hands-on Sesión 2.2: Image Processing Pipeline**"
      ]
    },
    {
      "cell_type": "markdown",
      "metadata": {
        "id": "bjHYiXnvvstD"
      },
      "source": [
        "## Índice de Contenidos\n",
        "[**Montar el drive y cargar librerias**](#tema1)\n",
        "\n",
        "[**Imagen RAW**](#tema2)\n",
        "\n",
        "[**Corrección de ruido previa a la convolución**](#tema3)\n",
        "\n",
        "[**Correción de Color**](#tema4)\n",
        "\n",
        "[**Aumentar brillo**](#tema5)\n",
        "\n",
        "[**Corrección Gamma**](#tema6)\n",
        "\n",
        "[**Cambio de espacio de color a P3D65**](#tema7)\n",
        "\n",
        "[**Demosaicking usando el metodo AHD manteniendo el espacio de color**](#tema8)\n",
        "\n",
        "[**Visualización General**](#tema9)"
      ]
    },
    {
      "cell_type": "markdown",
      "metadata": {
        "id": "aMO_LaR9tJwI"
      },
      "source": [
        "## <font color='#4C5FDA'>**Montar el drive y cargar librerias**</font> <a name=\"tema1\">\n"
      ]
    },
    {
      "cell_type": "markdown",
      "metadata": {
        "id": "vK_hV5NXuemE"
      },
      "source": [
        "Vamos a usar una libreria especial para leer imágenes RAW\n"
      ]
    },
    {
      "cell_type": "code",
      "execution_count": null,
      "metadata": {
        "id": "a5UJUqCVAuVv"
      },
      "outputs": [],
      "source": [
        "!pip install rawpy"
      ]
    },
    {
      "cell_type": "markdown",
      "metadata": {
        "id": "eNmTVAktulxJ"
      },
      "source": [
        "Importemos los paquetes necesarios para realizar el procesamiento"
      ]
    },
    {
      "cell_type": "code",
      "execution_count": 2,
      "metadata": {
        "id": "wZRYLIdvA03i"
      },
      "outputs": [],
      "source": [
        "import numpy as np\n",
        "import matplotlib.pyplot as plt\n",
        "import rawpy"
      ]
    },
    {
      "cell_type": "markdown",
      "metadata": {
        "id": "9rf685ubuuBE"
      },
      "source": [
        "Cargamos nuestra imagen RAW\n"
      ]
    },
    {
      "cell_type": "code",
      "execution_count": null,
      "metadata": {
        "id": "XmBjJpierZI5"
      },
      "outputs": [],
      "source": [
        "image_dir = \"raw_GOPRO1.dng\"\n",
        "!wget https://github.com/semilleroCV/Hands-on-Computer-Vision/raw/main/Sesiones/Sesion2/Imagenes/raw_GOPRO1.dng"
      ]
    },
    {
      "cell_type": "markdown",
      "metadata": {
        "id": "mjFcWjJ9WpUs"
      },
      "source": [
        "Veamos los metadatos de la imagen raw:"
      ]
    },
    {
      "cell_type": "code",
      "execution_count": null,
      "metadata": {
        "id": "lIxndGPMWky8"
      },
      "outputs": [],
      "source": [
        "# Aplicación de línea de comandos muy potente para leer, escribir y editar metadatos en una amplia variedad de archivos en este caso archivos .dng\n",
        "!apt install exiftool"
      ]
    },
    {
      "cell_type": "code",
      "execution_count": null,
      "metadata": {
        "id": "ZdE_zadmWHGK"
      },
      "outputs": [],
      "source": [
        "#Vemos los metadatos de la imagen\n",
        "!exiftool raw_GOPRO1.dng"
      ]
    },
    {
      "cell_type": "markdown",
      "metadata": {
        "id": "zZKtE446Bsy0"
      },
      "source": [
        "\n",
        "## <font color='#4C5FDA'>**Imagen RAW**</font> <a name=\"tema2\">\n"
      ]
    },
    {
      "cell_type": "code",
      "execution_count": null,
      "metadata": {
        "id": "YMan8x2lBUha"
      },
      "outputs": [],
      "source": [
        "with rawpy.imread(image_dir) as raw:\n",
        "  image0 = raw.raw_image_visible.copy()\n",
        "plt.imshow(image0)\n",
        "plt.colorbar()\n",
        "plt.show()"
      ]
    },
    {
      "cell_type": "markdown",
      "metadata": {
        "id": "2ZZsZ5oOC_dS"
      },
      "source": [
        "Dependiendo de la imagen será necesario jugar con el parametro user_flip (user_flip recibe valores enteros mayores a 0) del metodo postprocess"
      ]
    },
    {
      "cell_type": "markdown",
      "metadata": {
        "id": "WPlAJgAdBywU"
      },
      "source": [
        "## <font color='#4C5FDA'>**Corrección de ruido previa a la convolución**</font> <a name=\"tema3\">\n"
      ]
    },
    {
      "cell_type": "code",
      "execution_count": null,
      "metadata": {
        "id": "mJLCZeDnBsJm"
      },
      "outputs": [],
      "source": [
        "with rawpy.imread(image_dir) as raw:\n",
        "# En este caso el proceso de interpolación de colores se hace mediante el algoritmo bilineal.\n",
        "  image1 = raw.postprocess(fbdd_noise_reduction = rawpy.FBDDNoiseReductionMode(1),demosaic_algorithm = rawpy.DemosaicAlgorithm(0), output_color = rawpy.ColorSpace(1),\n",
        "                           no_auto_scale = True, no_auto_bright = True, gamma = (1,1))\n",
        "plt.imshow(image1)\n",
        "plt.colorbar()\n",
        "plt.show()"
      ]
    },
    {
      "cell_type": "markdown",
      "metadata": {
        "id": "-tgz_MK8Mj0T"
      },
      "source": [
        "## <font color='#4C5FDA'>**Correción de Color**</font> <a name=\"tema4\">\n"
      ]
    },
    {
      "cell_type": "markdown",
      "metadata": {
        "id": "cprVTf0TgssA"
      },
      "source": [
        "Cuando retiramos el parametro no_auto_scale del metodo postprocess obtenemos que se realiza la correción de color."
      ]
    },
    {
      "cell_type": "code",
      "execution_count": null,
      "metadata": {
        "id": "O736GWlJFKB2"
      },
      "outputs": [],
      "source": [
        "with rawpy.imread(image_dir) as raw:\n",
        "  image2 = raw.postprocess(fbdd_noise_reduction = rawpy.FBDDNoiseReductionMode(1),demosaic_algorithm = rawpy.DemosaicAlgorithm(0), output_color = rawpy.ColorSpace(1),\n",
        "                           no_auto_scale = False, no_auto_bright = True, gamma = (1,1))\n",
        "plt.imshow(image2)\n",
        "plt.colorbar()\n",
        "plt.show()"
      ]
    },
    {
      "cell_type": "code",
      "execution_count": null,
      "metadata": {
        "id": "bKuaLuRUkv9S"
      },
      "outputs": [],
      "source": [
        "plt.imshow(image2 - image1)\n",
        "plt.colorbar()\n",
        "plt.show()"
      ]
    },
    {
      "cell_type": "markdown",
      "metadata": {
        "id": "V-RcFl_5fRTL"
      },
      "source": [
        "\n",
        "## <font color='#4C5FDA'>**Aumentar brillo**</font> <a name=\"tema5\">\n"
      ]
    },
    {
      "cell_type": "code",
      "execution_count": null,
      "metadata": {
        "id": "I7bQX-Z1fN_q"
      },
      "outputs": [],
      "source": [
        "with rawpy.imread(image_dir) as raw:\n",
        "  image3 = raw.postprocess(fbdd_noise_reduction = rawpy.FBDDNoiseReductionMode(1),demosaic_algorithm = rawpy.DemosaicAlgorithm(0), output_color = rawpy.ColorSpace(1),\n",
        "                           no_auto_scale = False, no_auto_bright = False, gamma = (1,1))\n",
        "plt.imshow(image3)\n",
        "plt.colorbar()\n",
        "plt.show()"
      ]
    },
    {
      "cell_type": "code",
      "execution_count": null,
      "metadata": {
        "id": "zzJrORX5k6Oo"
      },
      "outputs": [],
      "source": [
        "plt.imshow(image3 - image2)\n",
        "plt.colorbar()\n",
        "plt.show()"
      ]
    },
    {
      "cell_type": "markdown",
      "metadata": {
        "id": "spzr6MBlftV2"
      },
      "source": [
        "\n",
        "\n",
        "\n",
        "## <font color='#4C5FDA'>**Corrección Gamma**</font> <a name=\"tema6\">\n"
      ]
    },
    {
      "cell_type": "code",
      "execution_count": null,
      "metadata": {
        "id": "U95O2H7ufrty"
      },
      "outputs": [],
      "source": [
        "with rawpy.imread(image_dir) as raw:\n",
        "  image4 = raw.postprocess(fbdd_noise_reduction = rawpy.FBDDNoiseReductionMode(1),demosaic_algorithm = rawpy.DemosaicAlgorithm(0), output_color = rawpy.ColorSpace(1),\n",
        "                           no_auto_scale = False, no_auto_bright = False, gamma = (2.222, 4.5))\n",
        "plt.imshow(image4)\n",
        "plt.colorbar()\n",
        "plt.show()"
      ]
    },
    {
      "cell_type": "code",
      "execution_count": null,
      "metadata": {
        "id": "QRmcG3QAk-ci"
      },
      "outputs": [],
      "source": [
        "plt.imshow(image4 - image3)\n",
        "plt.colorbar()\n",
        "plt.show()"
      ]
    },
    {
      "cell_type": "markdown",
      "metadata": {
        "id": "FdScfZbegN0Y"
      },
      "source": [
        "\n",
        "## <font color='#4C5FDA'>**Cambio de espacio de color a P3D65**</font> <a name=\"tema7\">\n"
      ]
    },
    {
      "cell_type": "code",
      "execution_count": null,
      "metadata": {
        "id": "m28FtLtEhhim"
      },
      "outputs": [],
      "source": [
        "with rawpy.imread(image_dir) as raw:\n",
        "  image5 = raw.postprocess(fbdd_noise_reduction = rawpy.FBDDNoiseReductionMode(1),demosaic_algorithm = rawpy.DemosaicAlgorithm(0), output_color = rawpy.ColorSpace(7),\n",
        "                           no_auto_scale = False, no_auto_bright = False, gamma = (2.222, 4.5))\n",
        "plt.imshow(image5)\n",
        "plt.colorbar()\n",
        "plt.show()"
      ]
    },
    {
      "cell_type": "code",
      "execution_count": null,
      "metadata": {
        "id": "hNSIC4KxlCzC"
      },
      "outputs": [],
      "source": [
        "plt.imshow(image5 - image4)\n",
        "plt.colorbar()\n",
        "plt.show()"
      ]
    },
    {
      "cell_type": "markdown",
      "metadata": {
        "id": "XbPuNqu5j7kK"
      },
      "source": [
        "\n",
        "\n",
        "## <font color='#4C5FDA'>**Demosaicking usando el metodo AHD manteniendo el espacio de color**</font> <a name=\"tema8\">\n"
      ]
    },
    {
      "cell_type": "code",
      "execution_count": null,
      "metadata": {
        "id": "K5JQhi1Oj46o"
      },
      "outputs": [],
      "source": [
        "with rawpy.imread(image_dir) as raw:\n",
        "  image6 = raw.postprocess(fbdd_noise_reduction = rawpy.FBDDNoiseReductionMode(1),demosaic_algorithm = rawpy.DemosaicAlgorithm(3), output_color = rawpy.ColorSpace(7),\n",
        "                           no_auto_scale = False, no_auto_bright = False, gamma = (2.222, 4.5))\n",
        "plt.imshow(image6)\n",
        "plt.colorbar()\n",
        "plt.show()"
      ]
    },
    {
      "cell_type": "code",
      "execution_count": null,
      "metadata": {
        "id": "xJDsMhRaFqgP"
      },
      "outputs": [],
      "source": [
        "plt.imshow(image6 - image5)\n",
        "plt.colorbar()\n",
        "plt.show()"
      ]
    },
    {
      "cell_type": "code",
      "execution_count": null,
      "metadata": {
        "id": "IdT1VXbPmSD1"
      },
      "outputs": [],
      "source": [
        "image0.shape"
      ]
    },
    {
      "cell_type": "markdown",
      "metadata": {
        "id": "PGVI_yoh0YbC"
      },
      "source": [
        "\n",
        "\n",
        "## <font color='#4C5FDA'>**Visualización General**</font> <a name=\"tema9\">\n"
      ]
    },
    {
      "cell_type": "code",
      "execution_count": 26,
      "metadata": {
        "id": "c08P7QPvljLc"
      },
      "outputs": [],
      "source": [
        "def selection (finit = 0, ffinal = image0.shape[0], cinit = 0 , cfinal = image0.shape[1]):\n",
        "\n",
        "  plt.figure(figsize=(10,10))\n",
        "\n",
        "  plt.subplot(3,2,1)\n",
        "  plt.imshow(image1[finit:ffinal, cinit:cfinal])\n",
        "  plt.colorbar()\n",
        "  plt.title(\"Correción de ruido previa a la convolución\")\n",
        "\n",
        "  plt.subplot(3,2,2)\n",
        "  plt.imshow(image2[finit:ffinal, cinit:cfinal])\n",
        "  plt.colorbar()\n",
        "  plt.title(\"Correción de Color\")\n",
        "\n",
        "\n",
        "  plt.subplot(3,2,3)\n",
        "  plt.imshow(image3[finit:ffinal, cinit:cfinal])\n",
        "  plt.colorbar()\n",
        "  plt.title(\"Brillo Aumentado\")\n",
        "\n",
        "\n",
        "  plt.subplot(3,2,4)\n",
        "  plt.imshow(image4[finit:ffinal, cinit:cfinal])\n",
        "  plt.colorbar()\n",
        "  plt.title(\"Corrección Gamma\")\n",
        "\n",
        "\n",
        "  plt.subplot(3,2,5)\n",
        "  plt.imshow(image5[finit:ffinal, cinit:cfinal])\n",
        "  plt.colorbar()\n",
        "  plt.title(\"Cambio de espacio de color a P3D65\")\n",
        "\n",
        "\n",
        "  plt.subplot(3,2,6)\n",
        "  plt.imshow(image6[finit:ffinal, cinit:cfinal])\n",
        "  plt.colorbar()\n",
        "  plt.title(\"Demosaicking usando el metodo AHD\")\n",
        "\n",
        "  plt.subplots_adjust(left=0.1,\n",
        "                      bottom=0.1,\n",
        "                      right=0.9,\n",
        "                      top=0.9,\n",
        "                      wspace=0.4,\n",
        "                      hspace=0.5)\n",
        "  plt.show()"
      ]
    },
    {
      "cell_type": "code",
      "execution_count": null,
      "metadata": {
        "id": "3Ovy6MUuoIlS"
      },
      "outputs": [],
      "source": [
        "selection(cinit= 2000, finit = 500, ffinal = 1000, cfinal = 2500)"
      ]
    }
  ],
  "metadata": {
    "colab": {
      "provenance": []
    },
    "kernelspec": {
      "display_name": "Python 3",
      "name": "python3"
    },
    "language_info": {
      "name": "python"
    }
  },
  "nbformat": 4,
  "nbformat_minor": 0
}
